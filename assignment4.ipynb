{
 "cells": [
  {
   "cell_type": "markdown",
   "id": "344499ee",
   "metadata": {},
   "source": [
    "# Radiation\n",
    "\n",
    "On this homework assignment, you will be responsible for importing all of the <tt>python</tt> packages you need for your calculations. You are also responsible for making your plot axis labels large enough for me to read them easily.\n",
    "\n",
    "<ol>\n",
    "    <li>Use Wien's displacement law, $\\lambda_{\\rm max} = \\frac{2.898 \\times 10^{-3} \\mathrm{m} \\cdot \\mathrm{K}}{T}$, to find and plot the wavelength of maximum intensity for seven different types of stars: O5, B5, A5, F5, G5, K5, M5. Label both axes and each data point on your plot. You may find <a href=\"https://sites.uni.edu/morgans/astro/course/Notes/section2/spectraltemps.html\">this table</a> of star types and temperatures helpful. Warning: watch your units.</li>\n",
    "</ol>"
   ]
  },
  {
   "cell_type": "code",
   "execution_count": 1,
   "id": "79c5dd51",
   "metadata": {},
   "outputs": [
    {
     "data": {
      "text/plain": [
       "Text(0, 0.5, 'Wavelength (m)')"
      ]
     },
     "execution_count": 1,
     "metadata": {},
     "output_type": "execute_result"
    },
    {
     "data": {
      "image/png": "[encoded data removed]",
      "text/plain": [
       "<Figure size 432x288 with 1 Axes>"
      ]
     },
     "metadata": {
      "needs_background": "light"
     },
     "output_type": "display_data"
    }
   ],
   "source": [
    "# Your code here\n",
    "# Plotting Wavelength(m) v Temperature(K)\n",
    "import numpy as np\n",
    "import matplotlib.pyplot as plt\n",
    "T1 = 54000\n",
    "T2 = 15200\n",
    "T3 = 8310\n",
    "T4 = 6700\n",
    "T5 = 5660\n",
    "T6 = 4400\n",
    "T7 = 3200\n",
    "waveO5 = (2.898*10**-3)/T1\n",
    "waveB5 = (2.898*10**-3)/T2\n",
    "waveA5 = (2.898*10**-3)/T3\n",
    "waveF5 = (2.898*10**-3)/T4\n",
    "waveG5 = (2.898*10**-3)/T5\n",
    "waveK5 = (2.898*10**-3)/T6\n",
    "waveM5 = (2.898*10**-3)/T7\n",
    "plt.plot(T1, waveO5, marker=\"o\", markersize=3, markeredgecolor=\"blue\", markerfacecolor=\"yellow\")\n",
    "plt.text(x=T1, y=waveO5, s=\"O5\")\n",
    "plt.plot(T2, waveB5, marker=\"o\", markersize=3, markeredgecolor=\"blue\", markerfacecolor=\"yellow\")\n",
    "plt.text(x=T2, y=waveB5, s=\"B5\")\n",
    "plt.plot(T3, waveA5, marker=\"o\", markersize=3, markeredgecolor=\"blue\", markerfacecolor=\"yellow\")\n",
    "plt.text(x=T3, y=waveA5, s=\"A5\")\n",
    "plt.plot(T4, waveF5, marker=\"o\", markersize=3, markeredgecolor=\"blue\", markerfacecolor=\"yellow\")\n",
    "plt.text(x=T4, y=waveF5, s=\"F5\")\n",
    "plt.plot(T5, waveG5, marker=\"o\", markersize=3, markeredgecolor=\"blue\", markerfacecolor=\"yellow\")\n",
    "plt.text(x=T5, y=waveG5, s=\"G5\")\n",
    "plt.plot(T6, waveK5, marker=\"o\", markersize=3, markeredgecolor=\"blue\", markerfacecolor=\"yellow\")\n",
    "plt.text(x=T6, y=waveK5, s=\"K5\")\n",
    "plt.plot(T7, waveM5, marker=\"o\", markersize=3, markeredgecolor=\"blue\", markerfacecolor=\"yellow\")\n",
    "plt.text(x=T7, y=waveM5, s=\"M5\")\n",
    "plt.xlabel('Temperature (K)')\n",
    "plt.ylabel('Wavelength (m)')"
   ]
  },
  {
   "cell_type": "markdown",
   "id": "4603ec84",
   "metadata": {},
   "source": [
    "In class we described the photoelectric effect qualitatively in terms of photons knocking electrons loose from their atoms. Here we will delve into the photoelectric effect quantitatively. Read about the photoelectric effect in your textbook, then read <em>Photoelectric effect step by step</em> in the Quantization module of Canvas. (Note: <em>Photoelectric effect step by step</em> is designed to go along with a lab, which we don't have.)\n",
    "\n",
    "A note about units: recall from PHYS 208/245 that 1 Volt = 1 Joule/Coulomb. Electrons and protons give us a fundamental unit of electric charge, or elementary charge, $|q| = e = 1.602 \\times 10^{−19}$ C. We can also calculate a fundamental unit of energy by calculating the change in kinetic energy of the elementary charge $e$ accelerated through an electric potential of 1 Volt. This new unit of energy is called the electron-Volt or eV. 1 eV = $1.602 \\times 10^{−19}$ J.\n",
    "\n",
    "<ol start=2>\n",
    "    <li>Assume you are trying to verify the experimental results that led to Einstein's successful explanation of the photoelectric effect. You have two emitters or \"photocathodes\"; one is made of aluminum and the other is made of gold. On <strong>one set of axes</strong>, plot the <em>maximum</em> photoelectron kinetic energy in eV that you could measure as a function of frequency $\\nu$ from <strong>both photocathodes</strong>. Make sure your plot shows the frequency cutoffs below which <em>no</em> photoelectrons will be generated. Label both axes and put a legend on your plot so a reader with no physics experience will know which curve belongs to which metal. You may find this <a href=\"http://hyperphysics.phy-astr.gsu.edu/hbase/Tables/photoelec.html\">table of work functions</a> helpful.</li>\n",
    "</ol>"
   ]
  },
  {
   "cell_type": "code",
   "execution_count": 2,
   "id": "15fb43e7",
   "metadata": {},
   "outputs": [
    {
     "data": {
      "text/plain": [
       "<matplotlib.legend.Legend at 0x7fa61fc7fa90>"
      ]
     },
     "execution_count": 2,
     "metadata": {},
     "output_type": "execute_result"
    },
    {
     "data": {
      "image/png": "[encoded data removed]",
      "text/plain": [
       "<Figure size 432x288 with 1 Axes>"
      ]
     },
     "metadata": {
      "needs_background": "light"
     },
     "output_type": "display_data"
    }
   ],
   "source": [
    "#maximum energy vs frequency\n",
    "from scipy import constants\n",
    "wave = np.arange(0,5,.001)\n",
    "const = constants.h\n",
    "Gold = 5.1\n",
    "Al = 4.08\n",
    "Egold = (const*wave)\n",
    "#- Gold\n",
    "Eal = (const*wave)\n",
    "#- Al\n",
    "plt.plot(wave,Egold, label=\"Gold\")\n",
    "plt.plot(wave,Eal, label=\"Aluminum\")\n",
    "plt.ylabel('Maximum Photoelectron Kinetic Energy')\n",
    "plt.xlabel('Frequency(Hz)')\n",
    "plt.legend(loc=\"upper left\")\n",
    "#plotting critical lines\n",
    "#aluminum\n",
    "#gold "
   ]
  },
  {
   "cell_type": "code",
   "execution_count": null,
   "id": "6a3d878c",
   "metadata": {},
   "outputs": [],
   "source": []
  }
 ],
 "metadata": {
  "kernelspec": {
   "display_name": "Python 3",
   "language": "python",
   "name": "python3"
  },
  "language_info": {
   "codemirror_mode": {
    "name": "ipython",
    "version": 3
   },
   "file_extension": ".py",
   "mimetype": "text/x-python",
   "name": "python",
   "nbconvert_exporter": "python",
   "pygments_lexer": "ipython3",
   "version": "3.8.8"
  }
 },
 "nbformat": 4,
 "nbformat_minor": 5
}
